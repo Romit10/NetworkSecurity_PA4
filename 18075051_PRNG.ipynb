{
  "nbformat": 4,
  "nbformat_minor": 0,
  "metadata": {
    "colab": {
      "name": "PRNG.ipynb",
      "provenance": []
    },
    "kernelspec": {
      "name": "python3",
      "display_name": "Python 3"
    },
    "language_info": {
      "name": "python"
    }
  },
  "cells": [
    {
      "cell_type": "code",
      "execution_count": 1,
      "metadata": {
        "colab": {
          "base_uri": "https://localhost:8080/"
        },
        "id": "rJklUe1io34P",
        "outputId": "d1ae6c68-3850-46b0-bca0-cfb3123cd468"
      },
      "outputs": [
        {
          "output_type": "stream",
          "name": "stdout",
          "text": [
            "Requirement already satisfied: statsmodels in /usr/local/lib/python3.7/dist-packages (0.10.2)\n",
            "Requirement already satisfied: patsy>=0.4.0 in /usr/local/lib/python3.7/dist-packages (from statsmodels) (0.5.2)\n",
            "Requirement already satisfied: numpy>=1.11 in /usr/local/lib/python3.7/dist-packages (from statsmodels) (1.21.6)\n",
            "Requirement already satisfied: scipy>=0.18 in /usr/local/lib/python3.7/dist-packages (from statsmodels) (1.4.1)\n",
            "Requirement already satisfied: pandas>=0.19 in /usr/local/lib/python3.7/dist-packages (from statsmodels) (1.3.5)\n",
            "Requirement already satisfied: pytz>=2017.3 in /usr/local/lib/python3.7/dist-packages (from pandas>=0.19->statsmodels) (2022.1)\n",
            "Requirement already satisfied: python-dateutil>=2.7.3 in /usr/local/lib/python3.7/dist-packages (from pandas>=0.19->statsmodels) (2.8.2)\n",
            "Requirement already satisfied: six in /usr/local/lib/python3.7/dist-packages (from patsy>=0.4.0->statsmodels) (1.15.0)\n",
            "Requirement already satisfied: numpy in /usr/local/lib/python3.7/dist-packages (1.21.6)\n"
          ]
        }
      ],
      "source": [
        "!pip install statsmodels\n",
        "!pip install numpy"
      ]
    },
    {
      "cell_type": "code",
      "source": [
        "seed = int(input(\"Enter the seed value for Linear Congruential Methdod: \"))\n",
        "m = int(input(\"Enter the modulus parameter for Linear Congruential Methdod: \"))\n",
        "a = int(input(\"Enter the multiplier term for Linear Congruential Methdod: \"))\n",
        "c = int(input(\"Enter the increment term for Linear Congruential Methdod: \"))\n",
        "p = int(input(\"Enter p for Blum Blum Shub Methdod: \"))\n",
        "q = int(input(\"Enter q for Blum Blum Shub Methdod: \"))\n",
        "n = int(input(\"Enter the length of random number sequence: \"))"
      ],
      "metadata": {
        "colab": {
          "base_uri": "https://localhost:8080/"
        },
        "id": "6FFgcBSqpjFR",
        "outputId": "09e79d02-334b-4200-8ad4-ffcf63157e22"
      },
      "execution_count": 2,
      "outputs": [
        {
          "name": "stdout",
          "output_type": "stream",
          "text": [
            "Enter the seed value for Linear Congruential Methdod: 5\n",
            "Enter the modulus parameter for Linear Congruential Methdod: 7\n",
            "Enter the multiplier term for Linear Congruential Methdod: 3\n",
            "Enter the increment term for Linear Congruential Methdod: 3\n",
            "Enter p for Blum Blum Shub Methdod: 7\n",
            "Enter q for Blum Blum Shub Methdod: 31\n",
            "Enter the length of random number sequence: 10\n"
          ]
        }
      ]
    },
    {
      "cell_type": "code",
      "source": [
        "from PA_4 import *"
      ],
      "metadata": {
        "colab": {
          "base_uri": "https://localhost:8080/"
        },
        "id": "ncR11DVmprRh",
        "outputId": "41af4b28-3f34-42ff-985f-2d6cd0544203"
      },
      "execution_count": 3,
      "outputs": [
        {
          "output_type": "stream",
          "name": "stderr",
          "text": [
            "/usr/local/lib/python3.7/dist-packages/statsmodels/tools/_testing.py:19: FutureWarning: pandas.util.testing is deprecated. Use the functions in the public API at pandas.testing instead.\n",
            "  import pandas.util.testing as tm\n"
          ]
        }
      ]
    },
    {
      "cell_type": "code",
      "source": [
        "sequence1 = linearCongruentialMethod(seed,m,a,c,n)"
      ],
      "metadata": {
        "id": "KqsWs0ujqQ9q"
      },
      "execution_count": 4,
      "outputs": []
    },
    {
      "cell_type": "code",
      "source": [
        "obj = BBS(p,q)\n",
        "obj.generateBits(n)\n",
        "sequence2 = obj.generatedValues"
      ],
      "metadata": {
        "id": "7x2Y7EkNqi_r"
      },
      "execution_count": 5,
      "outputs": []
    },
    {
      "cell_type": "code",
      "source": [
        "print('Linear Congruential PRNG: ', sequence1)\n",
        "print(\"-----------------\")\n",
        "print(\"Runs Test:\")\n",
        "print(RunsTest(sequence1))\n",
        "print()\n",
        "print(\"Kolmogorov-Smirnov Test: \")\n",
        "print('D: ', KSTest(sequence1, m), '}')\n",
        "print()\n",
        "\n",
        "print('BlumBlumShub PRNG: ', sequence2)\n",
        "print(\"------------------\")\n",
        "print(\"Runs Test:\")\n",
        "print(RunsTest(sequence2))\n",
        "print()\n",
        "print(\"Kolmogorov-Smirnov Test: \")\n",
        "print('{D: ', KSTest(sequence2, obj.n ), '}')\n",
        "print()"
      ],
      "metadata": {
        "colab": {
          "base_uri": "https://localhost:8080/"
        },
        "id": "2iOrgGujralx",
        "outputId": "7baa608f-6e93-4843-9919-30479f93fd58"
      },
      "execution_count": 6,
      "outputs": [
        {
          "output_type": "stream",
          "name": "stdout",
          "text": [
            "Linear Congruential PRNG:  [5, 4, 1, 6, 0, 3, 5, 4, 1, 6]\n",
            "-----------------\n",
            "Runs Test:\n",
            "{'z-score': 0.8429272304235247, 'p-score': 0.3992691431710653}\n",
            "\n",
            "Kolmogorov-Smirnov Test: \n",
            "D:  0.5421047417431506 }\n",
            "\n",
            "BlumBlumShub PRNG:  [102, 72, 64, 144, 183, 183, 25, 142, 81, 2]\n",
            "------------------\n",
            "Runs Test:\n",
            "{'z-score': 0.0, 'p-score': 1.0}\n",
            "\n",
            "Kolmogorov-Smirnov Test: \n",
            "{D:  0.4954720757867507 }\n",
            "\n"
          ]
        }
      ]
    },
    {
      "cell_type": "code",
      "source": [
        ""
      ],
      "metadata": {
        "id": "sAd-tFmAsVnt"
      },
      "execution_count": null,
      "outputs": []
    }
  ]
}
